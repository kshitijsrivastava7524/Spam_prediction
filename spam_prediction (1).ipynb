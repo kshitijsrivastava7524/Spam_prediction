{
  "nbformat": 4,
  "nbformat_minor": 0,
  "metadata": {
    "colab": {
      "provenance": []
    },
    "kernelspec": {
      "name": "python3",
      "display_name": "Python 3"
    },
    "language_info": {
      "name": "python"
    }
  },
  "cells": [
    {
      "cell_type": "code",
      "execution_count": null,
      "metadata": {
        "id": "dAlaG9dQXejB"
      },
      "outputs": [],
      "source": [
        "import numpy as np\n",
        "import pandas as pd\n",
        "from sklearn.model_selection import train_test_split\n",
        "from sklearn.feature_extraction.text import TfidfVectorizer\n",
        "from sklearn.linear_model import LogisticRegression\n",
        "from sklearn.metrics import accuracy_score"
      ]
    },
    {
      "cell_type": "markdown",
      "source": [
        "data collection and preprocessing"
      ],
      "metadata": {
        "id": "6BzMy6MRbw89"
      }
    },
    {
      "cell_type": "code",
      "source": [
        "#loading the data from csv file to the pandas dataframe\n",
        "raw_data =pd.read_csv('/content/mail_data.csv')"
      ],
      "metadata": {
        "id": "PzVBrZLTb1Yz"
      },
      "execution_count": null,
      "outputs": []
    },
    {
      "cell_type": "code",
      "source": [
        "#print the data\n",
        "print(raw_data)"
      ],
      "metadata": {
        "id": "NaQqzXAYcbut"
      },
      "execution_count": null,
      "outputs": []
    },
    {
      "cell_type": "code",
      "source": [
        "raw_data.head(10)"
      ],
      "metadata": {
        "id": "lfiydFvtd2i-"
      },
      "execution_count": null,
      "outputs": []
    },
    {
      "cell_type": "code",
      "source": [
        "#replace null values with null string\n",
        "raw_mail_data=raw_data.where((pd.notnull(raw_data)),'')"
      ],
      "metadata": {
        "id": "7cJ5gagEcuy1"
      },
      "execution_count": null,
      "outputs": []
    },
    {
      "cell_type": "code",
      "source": [
        "#printing first 10 rows of the dataframe\n",
        "raw_mail_data.head(10)"
      ],
      "metadata": {
        "id": "aFT7QjQYdfiP"
      },
      "execution_count": null,
      "outputs": []
    },
    {
      "cell_type": "code",
      "source": [
        "#checking number of rows and coloumns\n",
        "raw_mail_data.shape"
      ],
      "metadata": {
        "id": "9muFIg4seJJM"
      },
      "execution_count": null,
      "outputs": []
    },
    {
      "cell_type": "markdown",
      "source": [
        "label encoding"
      ],
      "metadata": {
        "id": "tb737QREeoM0"
      }
    },
    {
      "cell_type": "code",
      "source": [
        "#label spam mails as 0\n",
        "#label ham mail as 1\n",
        "\n",
        "raw_mail_data.loc[raw_mail_data['Category'] == 'spam', 'Category',]=0\n",
        "raw_mail_data.loc[raw_mail_data['Category'] == 'ham', 'Category',]=1"
      ],
      "metadata": {
        "id": "KtTZpDJVeXCc"
      },
      "execution_count": null,
      "outputs": []
    },
    {
      "cell_type": "code",
      "source": [
        "raw_mail_data.head(20)"
      ],
      "metadata": {
        "id": "2SB7puCMf5Ir"
      },
      "execution_count": null,
      "outputs": []
    },
    {
      "cell_type": "code",
      "source": [
        "#seperating the data as text and label\n",
        "\n",
        "X = raw_mail_data['Message']\n",
        "\n",
        "Y = raw_mail_data['Category']"
      ],
      "metadata": {
        "id": "KDdpUS1MgAPc"
      },
      "execution_count": null,
      "outputs": []
    },
    {
      "cell_type": "code",
      "source": [
        "print(X)"
      ],
      "metadata": {
        "id": "98IYkpydguQz"
      },
      "execution_count": null,
      "outputs": []
    },
    {
      "cell_type": "code",
      "source": [
        "print(Y)"
      ],
      "metadata": {
        "id": "xAcxXxkkgwLZ"
      },
      "execution_count": null,
      "outputs": []
    },
    {
      "cell_type": "markdown",
      "source": [
        "SPLITING THE DATA INTO TRAINING DATA AND TEST DATA"
      ],
      "metadata": {
        "id": "aYZHjgEvg5wK"
      }
    },
    {
      "cell_type": "code",
      "source": [
        "X_train ,X_test ,Y_train ,Y_test = train_test_split(X , Y, test_size=0.2,random_state=3)"
      ],
      "metadata": {
        "id": "G3irhxuThDJh"
      },
      "execution_count": null,
      "outputs": []
    },
    {
      "cell_type": "code",
      "source": [
        "print(X.shape)\n",
        "print(X_train.shape)\n",
        "print(X_test.shape)"
      ],
      "metadata": {
        "id": "4kNa7SjNiVun"
      },
      "execution_count": null,
      "outputs": []
    },
    {
      "cell_type": "markdown",
      "source": [
        "convert text data to numerical data    -> Feature extraction\n",
        "\n"
      ],
      "metadata": {
        "id": "5fV71LA6jIJ0"
      }
    },
    {
      "cell_type": "code",
      "source": [
        "#transforming text data stored in Y to feature vectors that can be used as input to logistic regression model\n",
        "\n",
        "feature_extraction = TfidfVectorizer(min_df = 1 , stop_words='english' , lowercase=True)\n",
        "\n",
        "X_train_features = feature_extraction.fit_transform(X_train)\n",
        "X_test_features = feature_extraction.transform(X_test)\n",
        "\n",
        "#convert Y_train and Y_test as INTEGERS\n",
        "\n",
        "Y_train = Y_train.astype('int')\n",
        "Y_test = Y_test.astype('int')"
      ],
      "metadata": {
        "id": "NETOi9VyjMwb"
      },
      "execution_count": null,
      "outputs": []
    },
    {
      "cell_type": "code",
      "source": [
        "print(X_train_features)"
      ],
      "metadata": {
        "id": "zaa3iTHKmQyR"
      },
      "execution_count": null,
      "outputs": []
    },
    {
      "cell_type": "markdown",
      "source": [
        "Training the logistic regression model"
      ],
      "metadata": {
        "id": "QfYZZeDToWCE"
      }
    },
    {
      "cell_type": "code",
      "source": [
        "#initializing the model\n",
        "model = LogisticRegression()"
      ],
      "metadata": {
        "id": "VgSJLVXPobSy"
      },
      "execution_count": null,
      "outputs": []
    },
    {
      "cell_type": "code",
      "source": [
        "#starts the traning of the model\n",
        "model.fit(X_train_features, Y_train)"
      ],
      "metadata": {
        "id": "ptC3PWR1okPk"
      },
      "execution_count": null,
      "outputs": []
    },
    {
      "cell_type": "markdown",
      "source": [
        "evaluating the trained model"
      ],
      "metadata": {
        "id": "eK16SoLbpQUK"
      }
    },
    {
      "cell_type": "code",
      "source": [
        "#predicting on traing data\n",
        "prediction_on_training_data= model.predict(X_train_features)\n",
        "#comparing the output\n",
        "\n",
        "accuracy_on_training_data= accuracy_score(Y_train,prediction_on_training_data)\n",
        "print(\"accuracy on training data : \",accuracy_on_training_data)"
      ],
      "metadata": {
        "id": "Qx3V1HAWo6wz"
      },
      "execution_count": null,
      "outputs": []
    },
    {
      "cell_type": "code",
      "source": [
        "prediction_on_test_data= model.predict(X_test_features)\n",
        "\n",
        "accuracy_on_test_data=accuracy_score(Y_test,prediction_on_test_data)\n",
        "print(\"accuracy on testing data : \",accuracy_on_test_data)"
      ],
      "metadata": {
        "id": "m3q2ZHZ7qOXB"
      },
      "execution_count": null,
      "outputs": []
    },
    {
      "cell_type": "markdown",
      "source": [
        "BUILDING A PREDICTIVE SYSTEM"
      ],
      "metadata": {
        "id": "kXxO-hxmsLzQ"
      }
    },
    {
      "cell_type": "code",
      "source": [
        "input_mail=[\"Free entry in 2 a wkly comp to win FA Cup final tkts 21st May 2005. Text FA to 87121 to receive entry question(std txt rate)T&C's apply 08452810075over18's\"\n",
        "]\n",
        "#convert text to feature vectors\n",
        "input_mail_features=feature_extraction.transform(input_mail)\n",
        "\n",
        "#making prediction\n",
        "prediction = model.predict(input_mail_features)\n",
        "#prediction is a list\n",
        "\n",
        "print(prediction)\n",
        "\n",
        "if prediction[0]==1:\n",
        "  print(\"ham mail\")\n",
        "else:\n",
        "  print(\"spam mail\")"
      ],
      "metadata": {
        "id": "osHIxIWprJ6v"
      },
      "execution_count": null,
      "outputs": []
    }
  ]
}